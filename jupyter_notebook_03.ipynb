{
 "cells": [
  {
   "cell_type": "code",
   "execution_count": 1,
   "id": "05c80540-72c0-419a-b665-3fe188676a8a",
   "metadata": {},
   "outputs": [
    {
     "name": "stdin",
     "output_type": "stream",
     "text": [
      "코드명:  1020\n"
     ]
    }
   ],
   "source": [
    "code=input('코드명: ')"
   ]
  },
  {
   "cell_type": "code",
   "execution_count": 20,
   "id": "09fb2d8e-a9de-4fc0-b8ed-def600ce8a76",
   "metadata": {},
   "outputs": [
    {
     "name": "stdin",
     "output_type": "stream",
     "text": [
      "코드명:  abc01\n",
      "상품명:  컴퓨터\n",
      "수량:  8\n"
     ]
    },
    {
     "name": "stdout",
     "output_type": "stream",
     "text": [
      "============================================================\n",
      "\t코드명,\t상품명,\t수량,\t단가,\t합계\n",
      "============================================================\n",
      "\tabc01 \t컴퓨터 \t8 \t3000 \t24000\n",
      "============================================================\n"
     ]
    }
   ],
   "source": [
    "code=input('코드명: ')\n",
    "x=input('상품명: ')\n",
    "y=int(input('수량: '))\n",
    "z=int(3000)\n",
    "sum=(z*y)\n",
    "\n",
    "print('='*60)\n",
    "print('\\t코드명,\\t상품명,\\t수량,\\t단가,\\t합계')\n",
    "print('='*60)\n",
    "print('\\t' +code,'\\t' +x ,'\\t' +str(y) ,'\\t' +str(z) ,'\\t' +str(sum))\n",
    "print('='*60) "
   ]
  },
  {
   "cell_type": "code",
   "execution_count": null,
   "id": "b35e1a48-9680-4091-9003-2f8bd2aaee0c",
   "metadata": {},
   "outputs": [],
   "source": []
  }
 ],
 "metadata": {
  "kernelspec": {
   "display_name": "Python 3 (ipykernel)",
   "language": "python",
   "name": "python3"
  },
  "language_info": {
   "codemirror_mode": {
    "name": "ipython",
    "version": 3
   },
   "file_extension": ".py",
   "mimetype": "text/x-python",
   "name": "python",
   "nbconvert_exporter": "python",
   "pygments_lexer": "ipython3",
   "version": "3.10.7"
  }
 },
 "nbformat": 4,
 "nbformat_minor": 5
}
